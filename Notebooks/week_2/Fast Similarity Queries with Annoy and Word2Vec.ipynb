{
 "cells": [
  {
   "cell_type": "markdown",
   "id": "868da16c",
   "metadata": {},
   "source": [
    "## 使用Annoy和Word2Vec进行快速相似度查询\n",
    "\n",
    "目前使用的相似度计算方法是通过暴力搜索向量空间中最接近的k个邻居，复杂度是线性的，搜索结果是精确的，对于大多数任务来说没有必要，以下将使用annoy进行相似度的估计，时间更快。"
   ]
  },
  {
   "cell_type": "markdown",
   "id": "64eb6039",
   "metadata": {},
   "source": [
    "### 使用Text8语料库\n",
    "\n",
    "下载语料库：\n",
    "```\n",
    "set https_proxy=IP:PORT\n",
    "python -m gensim.downloader --download text8\n",
    "```\n",
    "使用语料库："
   ]
  },
  {
   "cell_type": "code",
   "execution_count": 1,
   "id": "d0e98e80",
   "metadata": {},
   "outputs": [
    {
     "name": "stdout",
     "output_type": "stream",
     "text": [
      "C:\\Users\\Administrator/gensim-data\\text8\\text8.gz\n"
     ]
    }
   ],
   "source": [
    "import gensim.downloader as api\n",
    "text8_path = api.load('text8', return_path=True)\n",
    "print(text8_path)"
   ]
  },
  {
   "cell_type": "markdown",
   "id": "aa900abe",
   "metadata": {},
   "source": [
    "### 训练Word2Vec模型\n"
   ]
  },
  {
   "cell_type": "code",
   "execution_count": 2,
   "id": "54f37e6d",
   "metadata": {},
   "outputs": [
    {
     "name": "stdout",
     "output_type": "stream",
     "text": [
      "Training Finished <gensim.models.keyedvectors.KeyedVectors object at 0x000001FC9978E940>\n"
     ]
    }
   ],
   "source": [
    "from gensim.models import Word2Vec, KeyedVectors\n",
    "from gensim.models.word2vec import Text8Corpus\n",
    "\n",
    "params = {\n",
    "    'alpha': 0.05,\n",
    "    'vector_size': 100,\n",
    "    'window': 5,\n",
    "    'epochs': 5,\n",
    "    'min_count': 3,\n",
    "    'sample': 1e-4,\n",
    "    'sg': 1,\n",
    "    'hs': 0,\n",
    "    'negative': 5,\n",
    "}\n",
    "\n",
    "model = Word2Vec(Text8Corpus(text8_path), **params)\n",
    "wv = model.wv\n",
    "print(\"Training Finished\", wv)"
   ]
  },
  {
   "cell_type": "markdown",
   "id": "7871f214",
   "metadata": {},
   "source": [
    "### 使用模型构建AnnoyIndex并且进行相似度查询\n",
    "\n",
    "为了在gensim中使用Annoy，首先需要创建AnnoyIndex实例。\n",
    "实例化需要两个参数：\n",
    "- model：word2vec或者doc2vec模型\n",
    "- num_trees: 正整数，会影响时间和索引的大小，值越大结果越精准。\n",
    "\n",
    "进行相似度查找时，除了使用之前的方法，还需要带入**indexer**参数。\n",
    "\n",
    "*除了annoy，gensim还支持NMSLIB索引器，与annoy一样都支持快速、估计的查找*"
   ]
  },
  {
   "cell_type": "code",
   "execution_count": 3,
   "id": "a9b9cdc0",
   "metadata": {},
   "outputs": [],
   "source": [
    "from gensim.similarities.annoy import AnnoyIndexer\n",
    "\n",
    "# use num_trees = 100\n",
    "annoy_index = AnnoyIndexer(model, 100)\n",
    "vector = wv['science']"
   ]
  },
  {
   "cell_type": "code",
   "execution_count": 4,
   "id": "9d64cb9f",
   "metadata": {},
   "outputs": [
    {
     "name": "stdout",
     "output_type": "stream",
     "text": [
      "Approximate Neighbors:\n",
      "('science', 1.0)\n",
      "('astronautics', 0.5984432399272919)\n",
      "('sciences', 0.5957670509815216)\n",
      "('astrobiology', 0.5933246612548828)\n",
      "('geisteswissenschaften', 0.5929851830005646)\n",
      "('integrative', 0.5911383032798767)\n",
      "('castronova', 0.584848940372467)\n",
      "('populariser', 0.5819923877716064)\n",
      "('criminology', 0.5813790261745453)\n",
      "('theorizing', 0.5798007845878601)\n",
      "('psychometrics', 0.5797312259674072)\n",
      "Exact Neighbors:\n",
      "('science', 1.0000001192092896)\n",
      "('fiction', 0.735144853591919)\n",
      "('astronautics', 0.6775044202804565)\n",
      "('sciences', 0.673191487789154)\n",
      "('actuarial', 0.6727616786956787)\n",
      "('multidisciplinary', 0.6696473956108093)\n",
      "('astrobiology', 0.6692304611206055)\n",
      "('geisteswissenschaften', 0.6686779260635376)\n",
      "('integrative', 0.6656641960144043)\n",
      "('castronova', 0.655299186706543)\n",
      "('technology', 0.6517725586891174)\n"
     ]
    }
   ],
   "source": [
    "approximate_neighbors = wv.most_similar([vector], topn=11, indexer=annoy_index)\n",
    "print(\"Approximate Neighbors:\")\n",
    "for neighbor in approximate_neighbors:\n",
    "    print(neighbor)\n",
    "    \n",
    "normal_neighbors = wv.most_similar([vector], topn=11)\n",
    "print(\"Exact Neighbors:\")\n",
    "for neighbor in normal_neighbors:\n",
    "    print(neighbor)"
   ]
  },
  {
   "cell_type": "markdown",
   "id": "ecd33266",
   "metadata": {},
   "source": [
    "### 持久化\n",
    "\n",
    "储存索引以便以后使用不需要重新构建，节省时间。\n",
    "\n",
    "持久化需要在磁盘中储存两个文件fname,fname.d。\n",
    "\n",
    "在每次导入前，需要创建一个空的AnnoyIndexer对象。"
   ]
  },
  {
   "cell_type": "code",
   "execution_count": 5,
   "id": "08e971db",
   "metadata": {},
   "outputs": [],
   "source": [
    "# 注意不要重名，否则会出现OSError\n",
    "fname = 'annoy.indexer'\n",
    "# save\n",
    "annoy_index.save(fname)\n"
   ]
  },
  {
   "cell_type": "code",
   "execution_count": 6,
   "id": "47aca0c7",
   "metadata": {},
   "outputs": [
    {
     "name": "stdout",
     "output_type": "stream",
     "text": [
      "('science', 1.0)\n",
      "('astronautics', 0.5984432399272919)\n",
      "('sciences', 0.5957670509815216)\n",
      "('astrobiology', 0.5933246612548828)\n",
      "('geisteswissenschaften', 0.5929851830005646)\n",
      "('integrative', 0.5911383032798767)\n",
      "('castronova', 0.584848940372467)\n",
      "('populariser', 0.5819923877716064)\n",
      "('criminology', 0.5813790261745453)\n",
      "('theorizing', 0.5798007845878601)\n",
      "('psychometrics', 0.5797312259674072)\n"
     ]
    }
   ],
   "source": [
    "# load\n",
    "load_index = AnnoyIndexer()\n",
    "load_index.load(fname)\n",
    "load_index.model = model\n",
    "\n",
    "vector = wv['science']\n",
    "approximate_neighbors2 = wv.most_similar([vector], topn=11, indexer=load_index)\n",
    "for neighbor in approximate_neighbors2:\n",
    "    print(neighbor)\n",
    "    \n",
    "assert approximate_neighbors2 == approximate_neighbors"
   ]
  }
 ],
 "metadata": {
  "kernelspec": {
   "display_name": "Python 3",
   "language": "python",
   "name": "python3"
  },
  "language_info": {
   "codemirror_mode": {
    "name": "ipython",
    "version": 3
   },
   "file_extension": ".py",
   "mimetype": "text/x-python",
   "name": "python",
   "nbconvert_exporter": "python",
   "pygments_lexer": "ipython3",
   "version": "3.8.8"
  }
 },
 "nbformat": 4,
 "nbformat_minor": 5
}
