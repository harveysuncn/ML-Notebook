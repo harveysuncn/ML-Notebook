{
 "cells": [
  {
   "cell_type": "markdown",
   "id": "ce206648",
   "metadata": {},
   "source": [
    "### 训练模型\n",
    "\n",
    "首先使用lee语料库进行模型的训练："
   ]
  },
  {
   "cell_type": "code",
   "execution_count": 1,
   "id": "7cb4fc71",
   "metadata": {},
   "outputs": [],
   "source": [
    "from gensim.test.utils import datapath\n",
    "from gensim import utils \n",
    "import gensim.models\n",
    "\n",
    "class MyCorpus:\n",
    "    def __iter__(self):\n",
    "        corpus_path = datapath('lee_background.cor')\n",
    "        for line in open(corpus_path):\n",
    "            yield utils.simple_preprocess(line)\n",
    "            \n",
    "sentences = MyCorpus()\n",
    "model = gensim.models.Word2Vec(sentences=sentences)\n",
    "# 也可以分布进行：\n",
    "# model = gensim.models.Word2Vec\n",
    "# model.build_vocab(sentences)\n",
    "# mode.train(sentences)"
   ]
  },
  {
   "cell_type": "markdown",
   "id": "5f0e7285",
   "metadata": {},
   "source": [
    "模型一旦训练好之后，就可以进行相似度计算等操作。\n",
    "\n",
    "模型的主要部分是model.wv:"
   ]
  },
  {
   "cell_type": "code",
   "execution_count": 2,
   "id": "27f60097",
   "metadata": {},
   "outputs": [
    {
     "name": "stdout",
     "output_type": "stream",
     "text": [
      "[-0.01629661  0.04841239  0.0110352   0.01286649  0.01025715 -0.09067513\n",
      "  0.03708515  0.09195175 -0.00444688 -0.01559921 -0.00516166 -0.05739029\n",
      "  0.00757758  0.03019384  0.00534     0.01359623 -0.00281732 -0.00239061\n",
      " -0.01876056 -0.06646399  0.04076691  0.00967966  0.01266097 -0.00154255\n",
      " -0.02061245  0.02157506 -0.02023448 -0.01322702 -0.02953921  0.01450843\n",
      "  0.03576827 -0.04518547  0.04006007 -0.0358248  -0.00813503  0.0512962\n",
      "  0.0155316   0.00897516 -0.0186383  -0.03283753 -0.01695674  0.00471581\n",
      " -0.00954359  0.01626479  0.02876061 -0.02135929 -0.02859485 -0.00109092\n",
      "  0.00788634  0.03376314  0.01782753 -0.02405947 -0.01787091  0.00067012\n",
      " -0.01479281  0.01859088 -0.00080463  0.00197593 -0.02462159  0.00408266\n",
      " -0.01587849  0.00064162  0.00855404 -0.00472066 -0.03219509  0.06520161\n",
      "  0.01620102  0.03610145 -0.04194429  0.05237212 -0.01118278  0.00405617\n",
      "  0.05388708 -0.00835613  0.03904381  0.02990142 -0.00118563 -0.02267906\n",
      " -0.04432076 -0.01639775 -0.03473365  0.00836176 -0.03406995  0.04300578\n",
      " -0.00095277 -0.01569604  0.02292883  0.03580238  0.05138995  0.0151587\n",
      "  0.0383535   0.0567872   0.04772758  0.01119245  0.09601333  0.02206772\n",
      "  0.04929192 -0.0052725   0.00812369 -0.0063476 ]\n"
     ]
    }
   ],
   "source": [
    "vec_king = model.wv['king']\n",
    "print(vec_king)"
   ]
  },
  {
   "cell_type": "markdown",
   "id": "16c2fd17",
   "metadata": {},
   "source": [
    "获取字典："
   ]
  },
  {
   "cell_type": "code",
   "execution_count": 3,
   "id": "12da7268",
   "metadata": {},
   "outputs": [
    {
     "name": "stdout",
     "output_type": "stream",
     "text": [
      "word #0 is the\n",
      "word #1 is to\n",
      "word #2 is of\n",
      "word #3 is in\n",
      "word #4 is and\n",
      "word #5 is he\n",
      "word #6 is is\n",
      "word #7 is for\n",
      "word #8 is on\n",
      "word #9 is said\n"
     ]
    }
   ],
   "source": [
    "for index, word in enumerate(model.wv.index_to_key):\n",
    "    if index==10:\n",
    "        break\n",
    "    print(\"word #{} is {}\".format(index, word))"
   ]
  },
  {
   "cell_type": "markdown",
   "id": "5b6aed14",
   "metadata": {},
   "source": [
    "### 模型的持久化\n",
    "\n",
    "可以将训练好的模型保存，下次使用可以直接load："
   ]
  },
  {
   "cell_type": "code",
   "execution_count": 4,
   "id": "32d61ed7",
   "metadata": {},
   "outputs": [],
   "source": [
    "filepath = 'my_word2vec'\n",
    "model.save(filepath)"
   ]
  },
  {
   "cell_type": "code",
   "execution_count": 5,
   "id": "1842dfe6",
   "metadata": {},
   "outputs": [],
   "source": [
    "# load\n",
    "new_model = gensim.models.Word2Vec.load(filepath)"
   ]
  },
  {
   "cell_type": "markdown",
   "id": "e19ba63a",
   "metadata": {},
   "source": [
    "### 训练用参数\n",
    "\n",
    "- min_count: 忽略出现次数小于该值的单词\n",
    "- vector_size: 将单词表征至N维空间\n",
    "- workers: 线程数提升训练速度\n",
    "\n",
    "*注：训练模型时报错\n",
    "RuntimeError: you must first build vocabulary before training the model\n",
    "这是因为min_count默认为5，"
   ]
  },
  {
   "cell_type": "markdown",
   "id": "1fc351d3",
   "metadata": {},
   "source": [
    "### 持续训练（在线训练）\n",
    "\n",
    "对于已经训练好的模型，可以继续导入更多的数据进行持续训练。"
   ]
  },
  {
   "cell_type": "code",
   "execution_count": 6,
   "id": "a36b69c1",
   "metadata": {},
   "outputs": [
    {
     "data": {
      "text/plain": [
       "(20, 40)"
      ]
     },
     "execution_count": 6,
     "metadata": {},
     "output_type": "execute_result"
    }
   ],
   "source": [
    "more_sentences = [\n",
    "    ['Advanced', 'users', 'can', 'load', 'continue', 'training', 'more', 'sentences']\n",
    "]\n",
    "\n",
    "new_model.build_vocab(more_sentences, update=True)\n",
    "new_model.train(more_sentences, total_examples=model.corpus_count, epochs=model.epochs)"
   ]
  },
  {
   "cell_type": "code",
   "execution_count": 7,
   "id": "8dacda42",
   "metadata": {},
   "outputs": [
    {
     "name": "stdout",
     "output_type": "stream",
     "text": [
      "1750\n",
      "[('for', 0.9996793866157532), ('at', 0.999624490737915), ('today', 0.9996228814125061), ('could', 0.9996103048324585), ('this', 0.9995994567871094)]\n"
     ]
    }
   ],
   "source": [
    "print(len(new_model.wv.index_to_key))\n",
    "print(new_model.wv.most_similar(positive=['high', 'good'], topn=5))"
   ]
  }
 ],
 "metadata": {
  "kernelspec": {
   "display_name": "Python 3",
   "language": "python",
   "name": "python3"
  },
  "language_info": {
   "codemirror_mode": {
    "name": "ipython",
    "version": 3
   },
   "file_extension": ".py",
   "mimetype": "text/x-python",
   "name": "python",
   "nbconvert_exporter": "python",
   "pygments_lexer": "ipython3",
   "version": "3.8.8"
  }
 },
 "nbformat": 4,
 "nbformat_minor": 5
}
