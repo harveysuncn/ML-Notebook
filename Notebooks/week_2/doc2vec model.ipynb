{
 "cells": [
  {
   "cell_type": "markdown",
   "id": "252d53a0",
   "metadata": {},
   "source": [
    "## Doc2Vec 模型\n",
    "\n",
    "Doc2Vec模型将每个文档表征为向量。"
   ]
  },
  {
   "cell_type": "code",
   "execution_count": 1,
   "id": "78a0be29",
   "metadata": {},
   "outputs": [],
   "source": [
    "import os\n",
    "import gensim\n",
    "\n",
    "test_data_dir = os.path.join(gensim.__path__[0], 'test', 'test_data')\n",
    "lee_train_file = os.path.join(test_data_dir, 'lee_background.cor')\n",
    "lee_test_file = os.path.join(test_data_dir, 'lee.cor')"
   ]
  },
  {
   "cell_type": "markdown",
   "id": "ec8453ad",
   "metadata": {},
   "source": [
    "定义读取train/test文件的函数："
   ]
  },
  {
   "cell_type": "code",
   "execution_count": 2,
   "id": "df2e7bda",
   "metadata": {},
   "outputs": [],
   "source": [
    "import smart_open\n",
    "\n",
    "def read_corpus(fname, tokens_only=False):\n",
    "    with smart_open.open(fname, encoding='iso-8859-1') as f:\n",
    "        for i, line in enumerate(f):\n",
    "            tokens = gensim.utils.simple_preprocess(line)\n",
    "            if tokens_only:\n",
    "                yield tokens\n",
    "            else:\n",
    "                yield gensim.models.doc2vec.TaggedDocument(tokens, [i])\n",
    "                \n",
    "train_corpus = list(read_corpus(lee_train_file))\n",
    "test_corpus = list(read_corpus(lee_test_file, tokens_only=True))"
   ]
  },
  {
   "cell_type": "code",
   "execution_count": 3,
   "id": "55c3cbf1",
   "metadata": {},
   "outputs": [
    {
     "name": "stdout",
     "output_type": "stream",
     "text": [
      "[TaggedDocument(words=['hundreds', 'of', 'people', 'have', 'been', 'forced', 'to', 'vacate', 'their', 'homes', 'in', 'the', 'southern', 'highlands', 'of', 'new', 'south', 'wales', 'as', 'strong', 'winds', 'today', 'pushed', 'huge', 'bushfire', 'towards', 'the', 'town', 'of', 'hill', 'top', 'new', 'blaze', 'near', 'goulburn', 'south', 'west', 'of', 'sydney', 'has', 'forced', 'the', 'closure', 'of', 'the', 'hume', 'highway', 'at', 'about', 'pm', 'aedt', 'marked', 'deterioration', 'in', 'the', 'weather', 'as', 'storm', 'cell', 'moved', 'east', 'across', 'the', 'blue', 'mountains', 'forced', 'authorities', 'to', 'make', 'decision', 'to', 'evacuate', 'people', 'from', 'homes', 'in', 'outlying', 'streets', 'at', 'hill', 'top', 'in', 'the', 'new', 'south', 'wales', 'southern', 'highlands', 'an', 'estimated', 'residents', 'have', 'left', 'their', 'homes', 'for', 'nearby', 'mittagong', 'the', 'new', 'south', 'wales', 'rural', 'fire', 'service', 'says', 'the', 'weather', 'conditions', 'which', 'caused', 'the', 'fire', 'to', 'burn', 'in', 'finger', 'formation', 'have', 'now', 'eased', 'and', 'about', 'fire', 'units', 'in', 'and', 'around', 'hill', 'top', 'are', 'optimistic', 'of', 'defending', 'all', 'properties', 'as', 'more', 'than', 'blazes', 'burn', 'on', 'new', 'year', 'eve', 'in', 'new', 'south', 'wales', 'fire', 'crews', 'have', 'been', 'called', 'to', 'new', 'fire', 'at', 'gunning', 'south', 'of', 'goulburn', 'while', 'few', 'details', 'are', 'available', 'at', 'this', 'stage', 'fire', 'authorities', 'says', 'it', 'has', 'closed', 'the', 'hume', 'highway', 'in', 'both', 'directions', 'meanwhile', 'new', 'fire', 'in', 'sydney', 'west', 'is', 'no', 'longer', 'threatening', 'properties', 'in', 'the', 'cranebrook', 'area', 'rain', 'has', 'fallen', 'in', 'some', 'parts', 'of', 'the', 'illawarra', 'sydney', 'the', 'hunter', 'valley', 'and', 'the', 'north', 'coast', 'but', 'the', 'bureau', 'of', 'meteorology', 'claire', 'richards', 'says', 'the', 'rain', 'has', 'done', 'little', 'to', 'ease', 'any', 'of', 'the', 'hundred', 'fires', 'still', 'burning', 'across', 'the', 'state', 'the', 'falls', 'have', 'been', 'quite', 'isolated', 'in', 'those', 'areas', 'and', 'generally', 'the', 'falls', 'have', 'been', 'less', 'than', 'about', 'five', 'millimetres', 'she', 'said', 'in', 'some', 'places', 'really', 'not', 'significant', 'at', 'all', 'less', 'than', 'millimetre', 'so', 'there', 'hasn', 'been', 'much', 'relief', 'as', 'far', 'as', 'rain', 'is', 'concerned', 'in', 'fact', 'they', 've', 'probably', 'hampered', 'the', 'efforts', 'of', 'the', 'firefighters', 'more', 'because', 'of', 'the', 'wind', 'gusts', 'that', 'are', 'associated', 'with', 'those', 'thunderstorms'], tags=[0]), TaggedDocument(words=['indian', 'security', 'forces', 'have', 'shot', 'dead', 'eight', 'suspected', 'militants', 'in', 'night', 'long', 'encounter', 'in', 'southern', 'kashmir', 'the', 'shootout', 'took', 'place', 'at', 'dora', 'village', 'some', 'kilometers', 'south', 'of', 'the', 'kashmiri', 'summer', 'capital', 'srinagar', 'the', 'deaths', 'came', 'as', 'pakistani', 'police', 'arrested', 'more', 'than', 'two', 'dozen', 'militants', 'from', 'extremist', 'groups', 'accused', 'of', 'staging', 'an', 'attack', 'on', 'india', 'parliament', 'india', 'has', 'accused', 'pakistan', 'based', 'lashkar', 'taiba', 'and', 'jaish', 'mohammad', 'of', 'carrying', 'out', 'the', 'attack', 'on', 'december', 'at', 'the', 'behest', 'of', 'pakistani', 'military', 'intelligence', 'military', 'tensions', 'have', 'soared', 'since', 'the', 'raid', 'with', 'both', 'sides', 'massing', 'troops', 'along', 'their', 'border', 'and', 'trading', 'tit', 'for', 'tat', 'diplomatic', 'sanctions', 'yesterday', 'pakistan', 'announced', 'it', 'had', 'arrested', 'lashkar', 'taiba', 'chief', 'hafiz', 'mohammed', 'saeed', 'police', 'in', 'karachi', 'say', 'it', 'is', 'likely', 'more', 'raids', 'will', 'be', 'launched', 'against', 'the', 'two', 'groups', 'as', 'well', 'as', 'other', 'militant', 'organisations', 'accused', 'of', 'targetting', 'india', 'military', 'tensions', 'between', 'india', 'and', 'pakistan', 'have', 'escalated', 'to', 'level', 'not', 'seen', 'since', 'their', 'war'], tags=[1])]\n"
     ]
    }
   ],
   "source": [
    "print(train_corpus[:2])"
   ]
  },
  {
   "cell_type": "code",
   "execution_count": 4,
   "id": "92f3dc31",
   "metadata": {},
   "outputs": [
    {
     "name": "stdout",
     "output_type": "stream",
     "text": [
      "[['the', 'national', 'executive', 'of', 'the', 'strife', 'torn', 'democrats', 'last', 'night', 'appointed', 'little', 'known', 'west', 'australian', 'senator', 'brian', 'greig', 'as', 'interim', 'leader', 'shock', 'move', 'likely', 'to', 'provoke', 'further', 'conflict', 'between', 'the', 'party', 'senators', 'and', 'its', 'organisation', 'in', 'move', 'to', 'reassert', 'control', 'over', 'the', 'party', 'seven', 'senators', 'the', 'national', 'executive', 'last', 'night', 'rejected', 'aden', 'ridgeway', 'bid', 'to', 'become', 'interim', 'leader', 'in', 'favour', 'of', 'senator', 'greig', 'supporter', 'of', 'deposed', 'leader', 'natasha', 'stott', 'despoja', 'and', 'an', 'outspoken', 'gay', 'rights', 'activist'], ['cash', 'strapped', 'financial', 'services', 'group', 'amp', 'has', 'shelved', 'million', 'plan', 'to', 'buy', 'shares', 'back', 'from', 'investors', 'and', 'will', 'raise', 'million', 'in', 'fresh', 'capital', 'after', 'profits', 'crashed', 'in', 'the', 'six', 'months', 'to', 'june', 'chief', 'executive', 'paul', 'batchelor', 'said', 'the', 'result', 'was', 'solid', 'in', 'what', 'he', 'described', 'as', 'the', 'worst', 'conditions', 'for', 'stock', 'markets', 'in', 'years', 'amp', 'half', 'year', 'profit', 'sank', 'per', 'cent', 'to', 'million', 'or', 'share', 'as', 'australia', 'largest', 'investor', 'and', 'fund', 'manager', 'failed', 'to', 'hit', 'projected', 'per', 'cent', 'earnings', 'growth', 'targets', 'and', 'was', 'battered', 'by', 'falling', 'returns', 'on', 'share', 'markets']]\n"
     ]
    }
   ],
   "source": [
    "print(test_corpus[:2])"
   ]
  },
  {
   "cell_type": "markdown",
   "id": "e3e74037",
   "metadata": {},
   "source": [
    "### 训练模型\n",
    "\n",
    "使用50维的向量实例化doc2vec模型，在训练语料库上迭代40次，设置最小词语出现次数为2以丢弃出现次数过小的单词："
   ]
  },
  {
   "cell_type": "code",
   "execution_count": 5,
   "id": "81ad4bfd",
   "metadata": {},
   "outputs": [],
   "source": [
    "model = gensim.models.doc2vec.Doc2Vec(vector_size=50, min_count=2, epochs=40)\n",
    "model.build_vocab(train_corpus)"
   ]
  },
  {
   "cell_type": "markdown",
   "id": "fd131356",
   "metadata": {},
   "source": [
    "实际上，字典是一个列表，包含了从训练语料库中抽取的唯一的单词。额外的属性可以通过model.wv.get_vecattr()方法提取，例如，提取单词\"penalty\"出现的次数："
   ]
  },
  {
   "cell_type": "code",
   "execution_count": 6,
   "id": "3fef4a46",
   "metadata": {},
   "outputs": [
    {
     "name": "stdout",
     "output_type": "stream",
     "text": [
      "Word 'penalty' appeared 4 times\n"
     ]
    }
   ],
   "source": [
    "print(f\"Word 'penalty' appeared {model.wv.get_vecattr('penalty', 'count')} times\")"
   ]
  },
  {
   "cell_type": "markdown",
   "id": "a3029a30",
   "metadata": {},
   "source": [
    "接下来，在语料库上训练模型（使用BLAS库加快训练时间）。"
   ]
  },
  {
   "cell_type": "code",
   "execution_count": 7,
   "id": "0a1530c9",
   "metadata": {},
   "outputs": [],
   "source": [
    "model.train(train_corpus, total_examples=model.corpus_count, epochs=model.epochs)"
   ]
  },
  {
   "cell_type": "markdown",
   "id": "889fd329",
   "metadata": {},
   "source": [
    "通过model.infer_vector将单词列表传递给训练好的模型，返回的向量可以用于余弦相似度的计算。"
   ]
  },
  {
   "cell_type": "code",
   "execution_count": 11,
   "id": "4de1a7e5",
   "metadata": {},
   "outputs": [
    {
     "name": "stdout",
     "output_type": "stream",
     "text": [
      "[-0.08966017 -0.23857424 -0.13767982  0.24228011  0.01501597 -0.07111948\n",
      "  0.13412331  0.04861502 -0.13826714 -0.15789643  0.11965988 -0.08167095\n",
      " -0.07613041  0.02066883 -0.16935885 -0.16157469  0.02196263  0.15724814\n",
      "  0.19331518 -0.14272724 -0.04133454 -0.00185587  0.17325863  0.05465156\n",
      " -0.01126674 -0.05047667 -0.30797902 -0.02384892 -0.06248168  0.01862221\n",
      "  0.40152788 -0.09138237  0.16819322  0.08238731  0.18077222  0.14003135\n",
      " -0.13970795 -0.28252092 -0.22613388 -0.04293396 -0.02291233 -0.07351386\n",
      " -0.02236126 -0.04248099  0.1363744   0.07939965 -0.16482353 -0.13134898\n",
      "  0.1511766   0.13974746]\n"
     ]
    }
   ],
   "source": [
    "vector = model.infer_vector(['only', 'you', 'can', 'prevent', 'forest', 'fires'])\n",
    "print(vector)"
   ]
  },
  {
   "cell_type": "markdown",
   "id": "c2876431",
   "metadata": {},
   "source": [
    "由于算法是估算，所以对相同文本的估算结果会有略微的不同。"
   ]
  },
  {
   "cell_type": "markdown",
   "id": "ad412e8a",
   "metadata": {},
   "source": [
    "### 评估模型\n",
    "\n",
    "为了评估模型，首先对训练语料库中的每个文档推断新向量，随后根据相似度返回每个文档的rank。"
   ]
  },
  {
   "cell_type": "code",
   "execution_count": 12,
   "id": "5f19aaed",
   "metadata": {},
   "outputs": [],
   "source": [
    "ranks = []\n",
    "second_ranks = []\n",
    "for doc_id in range(len(train_corpus)):\n",
    "    inferred_vector = model.infer_vector(train_corpus[doc_id].words)\n",
    "    sims = model.dv.most_similar([inferred_vector], topn=len(model.dv))\n",
    "    rank = [docid for docid, sim in sims].index(doc_id)\n",
    "    ranks.append(rank)\n",
    "    \n",
    "    second_ranks.append(sims[1])"
   ]
  },
  {
   "cell_type": "code",
   "execution_count": 13,
   "id": "eba2de57",
   "metadata": {},
   "outputs": [
    {
     "name": "stdout",
     "output_type": "stream",
     "text": [
      "Counter({0: 293, 1: 7})\n"
     ]
    }
   ],
   "source": [
    "import collections\n",
    "\n",
    "counter = collections.Counter(ranks)\n",
    "print(counter)"
   ]
  },
  {
   "cell_type": "code",
   "execution_count": 14,
   "id": "04c53d98",
   "metadata": {},
   "outputs": [
    {
     "name": "stdout",
     "output_type": "stream",
     "text": [
      "Document (299): «australia will take on france in the doubles rubber of the davis cup tennis final today with the tie levelled at wayne arthurs and todd woodbridge are scheduled to lead australia in the doubles against cedric pioline and fabrice santoro however changes can be made to the line up up to an hour before the match and australian team captain john fitzgerald suggested he might do just that we ll make team appraisal of the whole situation go over the pros and cons and make decision french team captain guy forget says he will not make changes but does not know what to expect from australia todd is the best doubles player in the world right now so expect him to play he said would probably use wayne arthurs but don know what to expect really pat rafter salvaged australia davis cup campaign yesterday with win in the second singles match rafter overcame an arm injury to defeat french number one sebastien grosjean in three sets the australian says he is happy with his form it not very pretty tennis there isn too many consistent bounces you are playing like said bit of classic old grass court rafter said rafter levelled the score after lleyton hewitt shock five set loss to nicholas escude in the first singles rubber but rafter says he felt no added pressure after hewitt defeat knew had good team to back me up even if we were down he said knew could win on the last day know the boys can win doubles so even if we were down still feel we are good enough team to win and vice versa they are good enough team to beat us as well»\n",
      "\n",
      "SIMILAR/DISSIMILAR DOCS PER MODEL Doc2Vec(dm/m,d50,n5,w5,mc2,s0.001,t3):\n",
      "\n",
      "MOST (299, 0.9534343481063843): «australia will take on france in the doubles rubber of the davis cup tennis final today with the tie levelled at wayne arthurs and todd woodbridge are scheduled to lead australia in the doubles against cedric pioline and fabrice santoro however changes can be made to the line up up to an hour before the match and australian team captain john fitzgerald suggested he might do just that we ll make team appraisal of the whole situation go over the pros and cons and make decision french team captain guy forget says he will not make changes but does not know what to expect from australia todd is the best doubles player in the world right now so expect him to play he said would probably use wayne arthurs but don know what to expect really pat rafter salvaged australia davis cup campaign yesterday with win in the second singles match rafter overcame an arm injury to defeat french number one sebastien grosjean in three sets the australian says he is happy with his form it not very pretty tennis there isn too many consistent bounces you are playing like said bit of classic old grass court rafter said rafter levelled the score after lleyton hewitt shock five set loss to nicholas escude in the first singles rubber but rafter says he felt no added pressure after hewitt defeat knew had good team to back me up even if we were down he said knew could win on the last day know the boys can win doubles so even if we were down still feel we are good enough team to win and vice versa they are good enough team to beat us as well»\n",
      "\n",
      "SECOND-MOST (104, 0.8096470832824707): «australian cricket captain steve waugh has supported fast bowler brett lee after criticism of his intimidatory bowling to the south african tailenders in the first test in adelaide earlier this month lee was fined for giving new zealand tailender shane bond an unsportsmanlike send off during the third test in perth waugh says tailenders should not be protected from short pitched bowling these days you re earning big money you ve got responsibility to learn how to bat he said mean there no times like years ago when it was not professional and sort of bowlers code these days you re professional our batsmen work very hard at their batting and expect other tailenders to do likewise meanwhile waugh says his side will need to guard against complacency after convincingly winning the first test by runs waugh says despite the dominance of his side in the first test south africa can never be taken lightly it only one test match out of three or six whichever way you want to look at it so there lot of work to go he said but it nice to win the first battle definitely it gives us lot of confidence going into melbourne you know the big crowd there we love playing in front of the boxing day crowd so that will be to our advantage as well south africa begins four day match against new south wales in sydney on thursday in the lead up to the boxing day test veteran fast bowler allan donald will play in the warm up match and is likely to take his place in the team for the second test south african captain shaun pollock expects much better performance from his side in the melbourne test we still believe that we didn play to our full potential so if we can improve on our aspects the output we put out on the field will be lot better and we still believe we have side that is good enough to beat australia on our day he said»\n",
      "\n",
      "MEDIAN (168, 0.2436896711587906): «six swiss tour company staff have been found guilty of manslaughter over the deaths of australians and seven others in canyoning disaster two guides who survived the accident on july were acquitted adventure world president stephan friedli vice president peter balmer and director georg hoedle were each given five month suspended sentence and fine of swiss francs about general manager felix oehler received five months and fine of francs base manager bernhard gafner four months and francs and lead guide bernhard steuri three months and francs all six will pay one eighth of the court costs and one eighth of the plaintiffs costs about francs each guides simon wiget and stefan abegglen were acquitted peter dewar whose son bradley died in the disaster says more legal action is planned guess if anything the main thing we were waiting for was verdict of guilty or not guilty mr dewar said the guilty verdict at least leaves something open for civil action we already have legal representation in place mr dewar said he hopes civil action would be further form of punishment for the guilty bill peel of mackay in north queensland whose son billy died in the canyoning accident is disappointed with the verdict it swiss law and we have to abide by it was very angry very angry couldn believe it we were told this when the lawyer came to australia months ago but it was still hard to believe it was true oh well at least they are guilty and they have to live that the rest of their lives and that some punishment anyway mr peel said»\n",
      "\n",
      "LEAST (216, -0.13022367656230927): «senior taliban official confirmed the islamic militia would begin handing over its last bastion of kandahar to pashtun tribal leaders on friday this agreement was that taliban should surrender kandahar peacefully to the elders of these areas and we should guarantee the lives and the safety of taliban authorities and all the taliban from tomorrow should start this program former taliban ambassador to pakistan abdul salam zaeef told cnn in telephone interview he insisted that the taliban would not surrender to hamid karzai the new afghan interim leader and pashtun elder who has been cooperating with the united states to calm unrest among the southern tribes the taliban will surrender to elders not to karzai karzai and other persons which they want to enter kandahar by the support of america they don allow to enter kandahar city he said the taliban will surrender the weapons the ammunition to elders»\n",
      "\n"
     ]
    }
   ],
   "source": [
    "print('Document ({}): «{}»\\n'.format(doc_id, ' '.join(train_corpus[doc_id].words)))\n",
    "print(u'SIMILAR/DISSIMILAR DOCS PER MODEL %s:\\n' % model)\n",
    "for label, index in [('MOST', 0), ('SECOND-MOST', 1), ('MEDIAN', len(sims)//2), ('LEAST', len(sims) - 1)]:\n",
    "    print(u'%s %s: «%s»\\n' % (label, sims[index], ' '.join(train_corpus[sims[index][0]].words)))"
   ]
  },
  {
   "cell_type": "markdown",
   "id": "f7f33da6",
   "metadata": {},
   "source": [
    "最相似的文档拥有接近1.0的相似度分数，但是，排行第二的文档具有显著低的分数。\n",
    "\n",
    "重复运行以下代码，"
   ]
  },
  {
   "cell_type": "code",
   "execution_count": 17,
   "id": "0dcb5b09",
   "metadata": {
    "scrolled": true
   },
   "outputs": [
    {
     "name": "stdout",
     "output_type": "stream",
     "text": [
      "Train Document (259): «israeli forces have launched attacks on some of the key palestinian symbols of autonomy including gaza international airport the strikes come as israeli authorities announced they were stepping up military operations against yasser arafat palestinian authority the palestinian leadership meanwhile appealed for intervention from the united nations security council after israeli air strikes yesterday and accused israeli prime minister ariel sharon of declaring war on the palestinians mr sharon government also placed force the armed group in charge of mr arafat protection and the tanzim military groups of his fatah faction on its list of terrorist organisations senior israeli official said the decisions were taken in five hour marathon late night session of the national unity government said the official who asked not to be named in series of incursions and air strikes the israeli military targeted mr arafat symbols of power after holding him to account for spate of deadly suicide bombings by palestinian islamic militants the israeli army carried out reprisal attacks against targets in the gaza strip and west bank israeli tanks advanced to about metres from mr arafat offices in the west bank town of ramallah witnesses and palestinian security officials said in the gaza strip israeli forces penetrated the airport mr arafat uses for his travels abroad and started to churn up the only runway palestinian liaison official said mr sharon blaming mr arafat for the weekend suicide bombings that killed israelis earlier sent his airforce to blast the palestinian leader heliport in gaza and offices in the west bank town of jenin the radical islamic movement hamas claimed responsibility for the suicide attacks shortly after apache combat helicopters struck gaza city and fighter bombers hit jenin sharon made hard hitting televised address telling israelis war of terrorism had been foisted on the jewish state in choosing to try to win political accomplishments through murder and in choosing to allow the ruthless killing of civilians arafat has chosen the path of terrorism mr sharon said arafat is the greatest obstacle to peace and stability in the middle east mr sharon charged»\n",
      "\n",
      "Similar Document (116, 0.9122469425201416): «yasser arafat has accused israel of escalating violence by killing three palestinians including child one day after he called for an end to all anti israeli attacks israel prime minister ariel sharon said he was waiting for action and not empty promises from the palestinian leader he also accused mr arafat of doing nothing to prevent attacks in telephone call with french president jacques chirac the prime minister office reported president chirac meanwhile said mr arafat remains the only negotiating partner for israel in separate calls with prime minister sharon and the palestinian leader televised address late yesterday by mr arafat in which he said the persistent attacks must end and that perpetrators would be punished was hailed by united nations middle east envoy terje roed larsen as potential turning point in the search for an end to the violence but the largest islamic radical group hamas issued statement vowing to continue its holy war and slamming his peace call as an invitation for mr sharon to exterminate palestinians mr arafat has closed dozens of hamas and islamic jihad offices in response to punishing israeli air attacks and massive international pressure to jail islamic extremists who have killed dozens of israelis in attacks this month but the violence has continued today palestinian gunmen launched their first ambushes wounding three jewish settlers including father and three year old boy in two separate shootings in the west bank the israeli army which during the day said there had been marked drop in violence immediately following mr arafat speech killed three palestinians in separate incidents in the first israeli troops trying to arrest wanted hamas member in hebron shot the suspect dead as he tried to flee raid on his house in palestinian controlled area of the west bank town palestinian police said after mr sharon cut off ties with mr arafat last week for failing to prevent successive attacks israel has said it will take security matters in the palestinian territories into its own hands israeli troops operating in west bank land nominally under palestinian control near nablus also shot dead palestinian security officer approaching an army post set up on self rule territory»\n",
      "\n"
     ]
    }
   ],
   "source": [
    "import random\n",
    "doc_id = random.randint(0, len(train_corpus) - 1)\n",
    "\n",
    "# Compare and print the second-most-similar document\n",
    "print('Train Document ({}): «{}»\\n'.format(doc_id, ' '.join(train_corpus[doc_id].words)))\n",
    "sim_id = second_ranks[doc_id]\n",
    "print('Similar Document {}: «{}»\\n'.format(sim_id, ' '.join(train_corpus[sim_id[0]].words)))"
   ]
  },
  {
   "cell_type": "markdown",
   "id": "acd41979",
   "metadata": {},
   "source": [
    "### 测试模型\n",
    "\n",
    "将以上的方法用在随机挑选的测试文档中，将之与文档对比："
   ]
  },
  {
   "cell_type": "code",
   "execution_count": 18,
   "id": "4f9c990c",
   "metadata": {},
   "outputs": [
    {
     "name": "stdout",
     "output_type": "stream",
     "text": [
      "Test Document (2): «the united states government has said it wants to see president robert mugabe removed from power and that it is working with the zimbabwean opposition to bring about change of administration as scores of white farmers went into hiding to escape round up by zimbabwean police senior bush administration official called mr mugabe rule illegitimate and irrational and said that his re election as president in march was won through fraud walter kansteiner the assistant secretary of state for african affairs went on to blame mr mugabe policies for contributing to the threat of famine in zimbabwe»\n",
      "\n",
      "SIMILAR/DISSIMILAR DOCS PER MODEL Doc2Vec(dm/m,d50,n5,w5,mc2,s0.001,t3):\n",
      "\n",
      "MOST (94, 0.607802152633667): «foreign minister alexander downer says the commonwealth democracy watchdog should put zimbabwe formally on its agenda in the first step to possible suspension from the organisation mr downer says ministers from the commonwealth ministerial action group cmag should review whether the reported violence and intimidation in zimbabwe means it has violated the commonwealth code of good governance cmag ministers from australia bangladesh barbados botswana britain canada malaysia and nigeria will meet in london tomorrow for talks on zimbabwe in recent meetings they have suspended both fiji and pakistan following military coups however their talks on the violent campaign of farm occupations in zimbabwe have been restricted to informal discussions as president robert mugabe government holds power through recognised elections mr downer also says the commonwealth ministers should maintain pressure on president mugabe to allow international observers to oversee presidential elections next march»\n",
      "\n",
      "MEDIAN (155, 0.236042782664299): «the former managing director of one tel has denied claims he mislead the board while the company was effectively insolvent jodee rich says civil proceedings brought by the australian securities and investment commission asic against him two other former directors and the former chairman are baseless asic claims that the true financial position of one tel was not made known to the other directors of the company however mr rich says there are discrepancies in the way asic has handled the investigation am concerned that as part of this process asic has not given us the opportunity to respond to the many claims that they alleged six months ago and that we haven had an opportunity to respond to these claims that they are now bringing to us he said»\n",
      "\n",
      "LEAST (168, -0.10043144971132278): «six swiss tour company staff have been found guilty of manslaughter over the deaths of australians and seven others in canyoning disaster two guides who survived the accident on july were acquitted adventure world president stephan friedli vice president peter balmer and director georg hoedle were each given five month suspended sentence and fine of swiss francs about general manager felix oehler received five months and fine of francs base manager bernhard gafner four months and francs and lead guide bernhard steuri three months and francs all six will pay one eighth of the court costs and one eighth of the plaintiffs costs about francs each guides simon wiget and stefan abegglen were acquitted peter dewar whose son bradley died in the disaster says more legal action is planned guess if anything the main thing we were waiting for was verdict of guilty or not guilty mr dewar said the guilty verdict at least leaves something open for civil action we already have legal representation in place mr dewar said he hopes civil action would be further form of punishment for the guilty bill peel of mackay in north queensland whose son billy died in the canyoning accident is disappointed with the verdict it swiss law and we have to abide by it was very angry very angry couldn believe it we were told this when the lawyer came to australia months ago but it was still hard to believe it was true oh well at least they are guilty and they have to live that the rest of their lives and that some punishment anyway mr peel said»\n",
      "\n"
     ]
    }
   ],
   "source": [
    "# Pick a random document from the test corpus and infer a vector from the model\n",
    "doc_id = random.randint(0, len(test_corpus) - 1)\n",
    "inferred_vector = model.infer_vector(test_corpus[doc_id])\n",
    "sims = model.dv.most_similar([inferred_vector], topn=len(model.dv))\n",
    "\n",
    "# Compare and print the most/median/least similar documents from the train corpus\n",
    "print('Test Document ({}): «{}»\\n'.format(doc_id, ' '.join(test_corpus[doc_id])))\n",
    "print(u'SIMILAR/DISSIMILAR DOCS PER MODEL %s:\\n' % model)\n",
    "for label, index in [('MOST', 0), ('MEDIAN', len(sims)//2), ('LEAST', len(sims) - 1)]:\n",
    "    print(u'%s %s: «%s»\\n' % (label, sims[index], ' '.join(train_corpus[sims[index][0]].words)))"
   ]
  }
 ],
 "metadata": {
  "kernelspec": {
   "display_name": "Python 3",
   "language": "python",
   "name": "python3"
  },
  "language_info": {
   "codemirror_mode": {
    "name": "ipython",
    "version": 3
   },
   "file_extension": ".py",
   "mimetype": "text/x-python",
   "name": "python",
   "nbconvert_exporter": "python",
   "pygments_lexer": "ipython3",
   "version": "3.8.8"
  }
 },
 "nbformat": 4,
 "nbformat_minor": 5
}
