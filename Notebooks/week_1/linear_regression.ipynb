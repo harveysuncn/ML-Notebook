{
 "cells": [
  {
   "cell_type": "markdown",
   "id": "06abc883",
   "metadata": {},
   "source": [
    "# 线性回归的实现\n",
    "只使用Pytorch 张量和求导，从零实现一个线性回归模型。"
   ]
  },
  {
   "cell_type": "code",
   "execution_count": 1,
   "id": "e7bf4a77",
   "metadata": {},
   "outputs": [],
   "source": [
    "%matplotlib inline\n",
    "import random, torch"
   ]
  },
  {
   "cell_type": "markdown",
   "id": "51872764",
   "metadata": {},
   "source": [
    "首先定义一个线性函数，并且利用该函数生成带有噪音的数据集："
   ]
  },
  {
   "cell_type": "code",
   "execution_count": 2,
   "id": "beb97f6f",
   "metadata": {},
   "outputs": [
    {
     "name": "stdout",
     "output_type": "stream",
     "text": [
      "tensor([[-2.1616,  1.6216],\n",
      "        [-0.2649, -1.0222],\n",
      "        [-1.7370,  0.5960],\n",
      "        [ 0.2777,  0.0789],\n",
      "        [ 0.3846, -0.6121],\n",
      "        [-0.0747, -0.6739],\n",
      "        [ 1.4372,  0.5424],\n",
      "        [ 1.1284,  0.4688],\n",
      "        [ 1.2706,  1.2481],\n",
      "        [-0.9543,  1.1708]])\n",
      "tensor([[-5.6345],\n",
      "        [ 7.1435],\n",
      "        [-1.3044],\n",
      "        [ 4.4781],\n",
      "        [ 7.0516],\n",
      "        [ 6.3518],\n",
      "        [ 5.2336],\n",
      "        [ 4.8713],\n",
      "        [ 2.5124],\n",
      "        [-1.7075]])\n"
     ]
    }
   ],
   "source": [
    "true_w = torch.tensor([2, -3.4])\n",
    "true_b = 4.2\n",
    "def gen_data(w, b, num):\n",
    "    # y = Wx + b\n",
    "    x = torch.normal(0, 1, (num, len(w))) # features : mean=0, sd=1\n",
    "    y = x.mv(w) + b\n",
    "    y+= torch.normal(0, 0.01, y.shape) # add noise : mean=0, sd=0.01\n",
    "    return x,y.reshape(-1, 1)\n",
    "\n",
    "features, labels = gen_data(true_w, true_b, 1000)\n",
    "print(features[0:10])\n",
    "print(labels[0:10])"
   ]
  },
  {
   "cell_type": "markdown",
   "id": "c537f84f",
   "metadata": {},
   "source": [
    "定义一个读取数据集(feature, labels的组合)的函数，实现随机读取一定数量(Batch size)的样本："
   ]
  },
  {
   "cell_type": "code",
   "execution_count": 3,
   "id": "384fc2d5",
   "metadata": {},
   "outputs": [
    {
     "name": "stdout",
     "output_type": "stream",
     "text": [
      "tensor([[-1.0486,  2.4155],\n",
      "        [-0.8513, -0.1747],\n",
      "        [-0.6692,  0.9955],\n",
      "        [ 0.5147, -0.0248],\n",
      "        [ 0.1513, -1.5683],\n",
      "        [-0.6420, -1.6906],\n",
      "        [ 0.3862, -0.2026],\n",
      "        [-0.7877,  1.1728],\n",
      "        [ 0.5581, -0.3032],\n",
      "        [ 1.8395, -1.0935]]) tensor([[-6.1115],\n",
      "        [ 3.0895],\n",
      "        [-0.5229],\n",
      "        [ 5.3268],\n",
      "        [ 9.8300],\n",
      "        [ 8.6800],\n",
      "        [ 5.6661],\n",
      "        [-1.3529],\n",
      "        [ 6.3547],\n",
      "        [11.5772]])\n"
     ]
    }
   ],
   "source": [
    "def data_iter(batch_size, features, labels):\n",
    "    total = len(labels)\n",
    "    indexs = list(range(total))\n",
    "    random.shuffle(indexs)\n",
    "    for i in range(0, total, batch_size):\n",
    "        batch_indexs = torch.tensor(indexs[i:min(i+batch_size, total)])\n",
    "        yield features[batch_indexs], labels[batch_indexs]\n",
    "        \n",
    "batch_size = 10\n",
    "for X, y in data_iter(batch_size, features, labels):\n",
    "    print(X, y)\n",
    "    break\n",
    "    "
   ]
  },
  {
   "cell_type": "markdown",
   "id": "509d8da2",
   "metadata": {},
   "source": [
    "创建一个线性回归模型，y^hat = Wx + b,其中W,b是模型需要学习的参数，分别初始化两个参数："
   ]
  },
  {
   "cell_type": "code",
   "execution_count": 4,
   "id": "928cc7c6",
   "metadata": {},
   "outputs": [],
   "source": [
    "def linear_regression(X, w, b):\n",
    "    return X.mm(w) + b\n",
    "\n",
    "w = torch.normal(0, 0.01, size=(2, 1), requires_grad=True)\n",
    "b = torch.zeros(1, requires_grad=True)"
   ]
  },
  {
   "cell_type": "markdown",
   "id": "1cdabc96",
   "metadata": {},
   "source": [
    "损失函数用来衡量y与y^hat的差异，定义平方损失函数："
   ]
  },
  {
   "cell_type": "code",
   "execution_count": 5,
   "id": "dd888ade",
   "metadata": {},
   "outputs": [],
   "source": [
    "def squared_loss(y_hat, y):\n",
    "    # 确保y_hat 与 y 维数一致，避免广播\n",
    "    return (y_hat - y.reshape(y_hat.shape)) ** 2 / 2"
   ]
  },
  {
   "cell_type": "markdown",
   "id": "37d3ba22",
   "metadata": {},
   "source": [
    "优化函数用于更新参数，此处使用随机梯度下降作为优化算法："
   ]
  },
  {
   "cell_type": "code",
   "execution_count": 6,
   "id": "8a3abb0c",
   "metadata": {},
   "outputs": [],
   "source": [
    "def sgd(params, lr, batch_size):\n",
    "    with torch.no_grad():\n",
    "        for p in params:\n",
    "            p -= lr * p.grad / batch_size # 梯度下降\n",
    "            p.grad.zero_() # clear grad"
   ]
  },
  {
   "cell_type": "markdown",
   "id": "e53b2d2c",
   "metadata": {},
   "source": [
    "采用迭代周期为3，学习率为0.03的超参数组合，进行训练，每个训练周期随机读取数据："
   ]
  },
  {
   "cell_type": "code",
   "execution_count": 7,
   "id": "fd9cd377",
   "metadata": {},
   "outputs": [
    {
     "name": "stdout",
     "output_type": "stream",
     "text": [
      "epoch 0 : loss 0.027870\n",
      "epoch 1 : loss 0.000096\n",
      "epoch 2 : loss 0.000050\n"
     ]
    }
   ],
   "source": [
    "epochs = 3\n",
    "lr = 0.03\n",
    "batch_size = 10\n",
    "\n",
    "for epoch in range(epochs):\n",
    "    for X, y in data_iter(batch_size, features, labels):\n",
    "        y_hat = linear_regression(X, w, b)\n",
    "        l = squared_loss(y_hat, y)\n",
    "        l.sum().backward() # batch_size个loss的和\n",
    "        sgd([w, b], lr, batch_size)\n",
    "    with torch.no_grad():\n",
    "        train_loss = squared_loss(linear_regression(features, w, b), labels)\n",
    "        print('epoch %d : loss %f' % (epoch, train_loss.mean()))"
   ]
  },
  {
   "cell_type": "markdown",
   "id": "765c0f98",
   "metadata": {},
   "source": [
    "loss随着训练的进行，逐渐降低，表明预测的精度也在逐步提高，由于线性回归模型过于简单，因此loss最终会停留在一个稳定的值。"
   ]
  }
 ],
 "metadata": {
  "kernelspec": {
   "display_name": "Python 3",
   "language": "python",
   "name": "python3"
  },
  "language_info": {
   "codemirror_mode": {
    "name": "ipython",
    "version": 3
   },
   "file_extension": ".py",
   "mimetype": "text/x-python",
   "name": "python",
   "nbconvert_exporter": "python",
   "pygments_lexer": "ipython3",
   "version": "3.8.8"
  }
 },
 "nbformat": 4,
 "nbformat_minor": 5
}
