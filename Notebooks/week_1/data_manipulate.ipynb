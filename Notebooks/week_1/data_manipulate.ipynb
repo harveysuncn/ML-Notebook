{
 "cells": [
  {
   "cell_type": "markdown",
   "id": "40c25415",
   "metadata": {},
   "source": [
    "## 1.基本操作\n",
    "- 一维数组称为向量(Vector)\n",
    "- 二维数组称为矩阵(Matrix)\n",
    "- 三维及以上的数组称为张量(Tensor)\n",
    "\n",
    "使用Pytorch创建张量："
   ]
  },
  {
   "cell_type": "code",
   "execution_count": 1,
   "id": "085f7f10",
   "metadata": {},
   "outputs": [
    {
     "name": "stdout",
     "output_type": "stream",
     "text": [
      "tensor([ 0,  1,  2,  3,  4,  5,  6,  7,  8,  9, 10, 11])\n",
      "torch.Size([12])\n",
      "12\n"
     ]
    }
   ],
   "source": [
    "import torch\n",
    "\n",
    "x = torch.arange(12)\n",
    "print(x) # print the tensor itself\n",
    "print(x.shape) # print tensor's dimension\n",
    "print(x.numel()) # print the amount of elements"
   ]
  },
  {
   "cell_type": "markdown",
   "id": "52a6a89a",
   "metadata": {},
   "source": [
    "使用reshape改变张量的维度:"
   ]
  },
  {
   "cell_type": "code",
   "execution_count": 2,
   "id": "e3f298c0",
   "metadata": {
    "scrolled": true
   },
   "outputs": [
    {
     "name": "stdout",
     "output_type": "stream",
     "text": [
      "tensor([[ 0,  1,  2,  3],\n",
      "        [ 4,  5,  6,  7],\n",
      "        [ 8,  9, 10, 11]])\n",
      "tensor([[ 0,  1],\n",
      "        [ 2,  3],\n",
      "        [ 4,  5],\n",
      "        [ 6,  7],\n",
      "        [ 8,  9],\n",
      "        [10, 11]])\n"
     ]
    }
   ],
   "source": [
    "print(x.reshape(3, 4)) # 3 rows and 4 columns\n",
    "print(x.reshape(6, -1)) # implicit conversion: 6 x 2"
   ]
  },
  {
   "cell_type": "markdown",
   "id": "b73053f7",
   "metadata": {},
   "source": [
    "创建全0或者全1的张量："
   ]
  },
  {
   "cell_type": "code",
   "execution_count": 3,
   "id": "c83b0fcd",
   "metadata": {},
   "outputs": [
    {
     "name": "stdout",
     "output_type": "stream",
     "text": [
      "tensor([[[0., 0., 0., 0.],\n",
      "         [0., 0., 0., 0.],\n",
      "         [0., 0., 0., 0.]],\n",
      "\n",
      "        [[0., 0., 0., 0.],\n",
      "         [0., 0., 0., 0.],\n",
      "         [0., 0., 0., 0.]]]) \n",
      " tensor([[[1., 1., 1.],\n",
      "         [1., 1., 1.],\n",
      "         [1., 1., 1.],\n",
      "         [1., 1., 1.]],\n",
      "\n",
      "        [[1., 1., 1.],\n",
      "         [1., 1., 1.],\n",
      "         [1., 1., 1.],\n",
      "         [1., 1., 1.]]])\n"
     ]
    }
   ],
   "source": [
    "zeros = torch.zeros(2, 3, 4)\n",
    "ones = torch.ones(2, 4, 3)\n",
    "print(zeros, '\\n', ones)"
   ]
  },
  {
   "cell_type": "markdown",
   "id": "784e9208",
   "metadata": {},
   "source": [
    "也可以从某一种概率分布中随机采样张量的值，比如从标准正态分布中进行采样："
   ]
  },
  {
   "cell_type": "code",
   "execution_count": 4,
   "id": "ae4d15e6",
   "metadata": {
    "scrolled": true
   },
   "outputs": [
    {
     "data": {
      "text/plain": [
       "tensor([[[ 0.0477, -0.1350, -0.3571,  1.4261,  1.1622],\n",
       "         [ 0.2566,  0.0716,  0.5388, -1.4949,  1.9727],\n",
       "         [ 0.6398, -0.2441,  1.8211,  0.8761, -0.2762],\n",
       "         [-0.1340, -0.5802,  2.2840,  0.8114, -1.1410]],\n",
       "\n",
       "        [[ 0.4563, -0.5710,  0.0425,  2.0620, -0.6339],\n",
       "         [-0.9171,  1.6123,  0.6503,  0.3571,  0.1727],\n",
       "         [-0.0396, -0.6308, -0.2663, -0.0926,  0.1735],\n",
       "         [-0.7028, -0.2000,  0.5715, -0.0191,  0.1890]],\n",
       "\n",
       "        [[ 2.2350,  0.8446,  1.6527, -0.4551,  0.7662],\n",
       "         [ 0.0257,  0.1703, -0.1272, -0.0982,  2.3473],\n",
       "         [ 0.0330, -0.2166,  0.8339, -0.3783,  1.0316],\n",
       "         [ 0.8488,  1.5294, -0.5692,  1.5056,  0.4827]]])"
      ]
     },
     "execution_count": 4,
     "metadata": {},
     "output_type": "execute_result"
    }
   ],
   "source": [
    "torch.randn(3, 4, 5)"
   ]
  },
  {
   "cell_type": "markdown",
   "id": "115b8225",
   "metadata": {},
   "source": [
    "或者指定张量中每个元素的值："
   ]
  },
  {
   "cell_type": "code",
   "execution_count": 5,
   "id": "63441054",
   "metadata": {},
   "outputs": [
    {
     "name": "stdout",
     "output_type": "stream",
     "text": [
      "tensor([[1, 2, 3],\n",
      "        [2, 3, 4],\n",
      "        [4, 5, 6],\n",
      "        [7, 8, 9]])\n"
     ]
    }
   ],
   "source": [
    "my_tensor = torch.tensor([[1, 2, 3], [2, 3, 4], [4, 5, 6], [7, 8, 9]])\n",
    "print(my_tensor)\n",
    "assert my_tensor.shape == (4, 3)"
   ]
  },
  {
   "cell_type": "markdown",
   "id": "eb552b8e",
   "metadata": {},
   "source": [
    "## 2.运算\n",
    "对张量进行基本的运算："
   ]
  },
  {
   "cell_type": "code",
   "execution_count": 6,
   "id": "9e2c3cbb",
   "metadata": {
    "scrolled": true
   },
   "outputs": [
    {
     "name": "stdout",
     "output_type": "stream",
     "text": [
      " x : tensor([[ 0,  2,  4,  6],\n",
      "        [ 8, 10, 12, 14],\n",
      "        [16, 18, 20, 22]])\n",
      " y : tensor([[ 1,  3,  5,  7],\n",
      "        [ 9, 11, 13, 15],\n",
      "        [17, 19, 21, 23]])\n",
      "x+y: tensor([[ 1,  5,  9, 13],\n",
      "        [17, 21, 25, 29],\n",
      "        [33, 37, 41, 45]])\n",
      "y-x: tensor([[1, 1, 1, 1],\n",
      "        [1, 1, 1, 1],\n",
      "        [1, 1, 1, 1]])\n",
      "x*y: tensor([[  0,   6,  20,  42],\n",
      "        [ 72, 110, 156, 210],\n",
      "        [272, 342, 420, 506]])\n",
      "x/y: tensor([[0.0000, 0.6667, 0.8000, 0.8571],\n",
      "        [0.8889, 0.9091, 0.9231, 0.9333],\n",
      "        [0.9412, 0.9474, 0.9524, 0.9565]])\n",
      "tensor([[1.0000e+00, 7.3891e+00, 5.4598e+01, 4.0343e+02],\n",
      "        [2.9810e+03, 2.2026e+04, 1.6275e+05, 1.2026e+06],\n",
      "        [8.8861e+06, 6.5660e+07, 4.8517e+08, 3.5849e+09]])\n",
      "tensor(132)\n",
      "tensor([[24, 30, 36, 42]])\n",
      "tensor([[ 0,  8, 16],\n",
      "        [ 2, 10, 18],\n",
      "        [ 4, 12, 20],\n",
      "        [ 6, 14, 22]])\n",
      "tensor([[True, True, True, True],\n",
      "        [True, True, True, True],\n",
      "        [True, True, True, True]])\n"
     ]
    },
    {
     "data": {
      "text/plain": [
       "False"
      ]
     },
     "execution_count": 6,
     "metadata": {},
     "output_type": "execute_result"
    }
   ],
   "source": [
    "x = torch.arange(start=0, end=24, step=2).reshape(3,4)\n",
    "y = torch.arange(start=1, end=24, step=2).reshape(3,4)\n",
    "print(' x :', x)\n",
    "print(' y :', y)\n",
    "# ==========二元运算=============\n",
    "print('x+y:', x+y)\n",
    "print('y-x:', y-x)\n",
    "print('x*y:', x*y)\n",
    "print('x/y:', x/y)\n",
    "\n",
    "# ==========一元运算=============\n",
    "print(torch.exp(x))\n",
    "print(x.sum())\n",
    "\n",
    "# ==========非降维求和===========\n",
    "sum_x = x.sum(axis=0, keepdims=True)\n",
    "print(sum_x)\n",
    "\n",
    "# ==========转置张量=============\n",
    "print(x.T)\n",
    "\n",
    "# ==========克隆张量=============\n",
    "copy_x = x.clone()\n",
    "print(copy_x == x)\n",
    "id(copy_x) == id(x) # 克隆时，为新的张量开辟了新的内存空间"
   ]
  },
  {
   "cell_type": "markdown",
   "id": "0c2373a5",
   "metadata": {},
   "source": [
    "也可以对两个张量进行联接(concat):"
   ]
  },
  {
   "cell_type": "code",
   "execution_count": 7,
   "id": "8ac80e83",
   "metadata": {},
   "outputs": [
    {
     "name": "stdout",
     "output_type": "stream",
     "text": [
      "tensor([[ 0,  2,  4,  6],\n",
      "        [ 8, 10, 12, 14],\n",
      "        [16, 18, 20, 22],\n",
      "        [ 1,  3,  5,  7],\n",
      "        [ 9, 11, 13, 15],\n",
      "        [17, 19, 21, 23]])\n",
      "tensor([[ 0,  2,  4,  6,  1,  3,  5,  7],\n",
      "        [ 8, 10, 12, 14,  9, 11, 13, 15],\n",
      "        [16, 18, 20, 22, 17, 19, 21, 23]])\n"
     ]
    }
   ],
   "source": [
    "z1 = torch.cat((x, y), dim=0)\n",
    "z2 = torch.cat((x, y), dim=1)\n",
    "print(z1)\n",
    "print(z2)"
   ]
  },
  {
   "cell_type": "markdown",
   "id": "4bc8d696",
   "metadata": {},
   "source": [
    "## 3.广播机制\n",
    "当两个张量形状不一致时，torch的广播机制会对元素进行复制以将两个张量转换为相同形状："
   ]
  },
  {
   "cell_type": "code",
   "execution_count": 8,
   "id": "dba0364a",
   "metadata": {},
   "outputs": [
    {
     "name": "stdout",
     "output_type": "stream",
     "text": [
      "tensor([[1.],\n",
      "        [1.]])\n",
      "tensor([[1., 1., 1.]])\n",
      "tensor([[2., 2., 2.],\n",
      "        [2., 2., 2.]])\n"
     ]
    }
   ],
   "source": [
    "x = torch.ones(2,1)\n",
    "y = torch.ones(1,3)\n",
    "print(x)\n",
    "print(y)\n",
    "print(x+y) # convert to 2x3\n"
   ]
  },
  {
   "cell_type": "markdown",
   "id": "755b1921",
   "metadata": {},
   "source": [
    "## 4.对张量的索引操作\n",
    "类似python中的其他可迭代数据结构，张量也支持索引、切片等操作："
   ]
  },
  {
   "cell_type": "code",
   "execution_count": 9,
   "id": "b880cdef",
   "metadata": {},
   "outputs": [
    {
     "name": "stdout",
     "output_type": "stream",
     "text": [
      "tensor([[ 0.0763, -1.1010,  1.3481, -0.3526],\n",
      "        [-1.2038,  0.2268, -0.5616,  1.2748],\n",
      "        [ 0.8312,  1.2611,  0.0640, -1.3442]])\n",
      "the second row:  tensor([-1.2038,  0.2268, -0.5616,  1.2748])\n",
      "the first element of the second row:  tensor(-1.2038)\n"
     ]
    }
   ],
   "source": [
    "z = torch.randn(3,4)\n",
    "print(z)\n",
    "print('the second row: ', z[1])\n",
    "print('the first element of the second row: ', z[1][0])"
   ]
  },
  {
   "cell_type": "markdown",
   "id": "641e1d46",
   "metadata": {},
   "source": [
    "根据索引，对张量的指定位置进行修改："
   ]
  },
  {
   "cell_type": "code",
   "execution_count": 10,
   "id": "f5e87f0c",
   "metadata": {},
   "outputs": [
    {
     "name": "stdout",
     "output_type": "stream",
     "text": [
      "tensor([[ 1.0000, -1.1010,  1.3481, -0.3526],\n",
      "        [-1.2038,  0.2268, -0.5616,  1.2748],\n",
      "        [ 0.8312,  1.2611,  0.0640, -1.3442]])\n"
     ]
    }
   ],
   "source": [
    "z[0,0] = 1\n",
    "print(z)"
   ]
  },
  {
   "cell_type": "markdown",
   "id": "aabe303c",
   "metadata": {},
   "source": [
    "## 5.矩阵常见操作\n",
    "向量点积（Dot product)"
   ]
  },
  {
   "cell_type": "code",
   "execution_count": 11,
   "id": "d1f5b324",
   "metadata": {},
   "outputs": [
    {
     "data": {
      "text/plain": [
       "tensor(14)"
      ]
     },
     "execution_count": 11,
     "metadata": {},
     "output_type": "execute_result"
    }
   ],
   "source": [
    "x = torch.arange(4)\n",
    "torch.dot(x,x.T)"
   ]
  },
  {
   "cell_type": "markdown",
   "id": "71d0184d",
   "metadata": {},
   "source": [
    "矩阵-向量积"
   ]
  },
  {
   "cell_type": "code",
   "execution_count": 12,
   "id": "0e51c6e9",
   "metadata": {},
   "outputs": [
    {
     "data": {
      "text/plain": [
       "tensor([14, 38, 62])"
      ]
     },
     "execution_count": 12,
     "metadata": {},
     "output_type": "execute_result"
    }
   ],
   "source": [
    "y = torch.arange(12).reshape(-1,4)\n",
    "torch.mv(y,x)"
   ]
  },
  {
   "cell_type": "markdown",
   "id": "0f3f15f5",
   "metadata": {},
   "source": [
    "矩阵-矩阵积"
   ]
  },
  {
   "cell_type": "code",
   "execution_count": 13,
   "id": "3c8993b3",
   "metadata": {},
   "outputs": [
    {
     "data": {
      "text/plain": [
       "tensor([[ 20,  23,  26,  29],\n",
       "        [ 56,  68,  80,  92],\n",
       "        [ 92, 113, 134, 155],\n",
       "        [128, 158, 188, 218]])"
      ]
     },
     "execution_count": 13,
     "metadata": {},
     "output_type": "execute_result"
    }
   ],
   "source": [
    "x = torch.arange(12).reshape(4,-1)\n",
    "x.mm(y)"
   ]
  },
  {
   "cell_type": "markdown",
   "id": "58c371ba",
   "metadata": {},
   "source": [
    "范数(norms)反映了一个向量的大小，因此范数一定是非负的，最小为0.其中L2范数是向量个元素平方和的平方根(类似欧几里得距离)："
   ]
  },
  {
   "cell_type": "code",
   "execution_count": 14,
   "id": "25e9d537",
   "metadata": {},
   "outputs": [
    {
     "data": {
      "text/plain": [
       "tensor(3.7417, dtype=torch.float64)"
      ]
     },
     "execution_count": 14,
     "metadata": {},
     "output_type": "execute_result"
    }
   ],
   "source": [
    "l = torch.arange(4, dtype=float).reshape(1,-1)\n",
    "l.norm()"
   ]
  },
  {
   "cell_type": "markdown",
   "id": "39ab3025",
   "metadata": {},
   "source": [
    "与L2范数相比，L1范数受异常值影响更小，即抗干扰能力更强，L1范数即个元素的绝对值之和。"
   ]
  },
  {
   "cell_type": "code",
   "execution_count": 15,
   "id": "30c0b26f",
   "metadata": {
    "scrolled": true
   },
   "outputs": [
    {
     "name": "stdout",
     "output_type": "stream",
     "text": [
      "tensor(8)\n"
     ]
    }
   ],
   "source": [
    "l1 = torch.abs(torch.tensor([3,-4,1])).sum()\n",
    "print(l1)"
   ]
  },
  {
   "cell_type": "markdown",
   "id": "1983123c",
   "metadata": {},
   "source": [
    "## 6.求导\n",
    "对函数y = 2x^Tx进行求导，其中函数的输出值y为标量, x为向量："
   ]
  },
  {
   "cell_type": "code",
   "execution_count": 20,
   "id": "13b08699",
   "metadata": {},
   "outputs": [
    {
     "data": {
      "text/plain": [
       "tensor([ 0.,  4.,  8., 12.])"
      ]
     },
     "execution_count": 20,
     "metadata": {},
     "output_type": "execute_result"
    }
   ],
   "source": [
    "x = torch.arange(4.0)\n",
    "x.requires_grad_(True) # 对x求导\n",
    "y = 2 * torch.dot(x,x.T)\n",
    "y.backward()\n",
    "x.grad"
   ]
  },
  {
   "cell_type": "markdown",
   "id": "b720259e",
   "metadata": {},
   "source": [
    "当求导函数输出值y不为标量时，需要先对y中元素进行求和，再反向传播，求得x的梯度："
   ]
  },
  {
   "cell_type": "code",
   "execution_count": 22,
   "id": "bf73a4d0",
   "metadata": {
    "scrolled": true
   },
   "outputs": [
    {
     "data": {
      "text/plain": [
       "tensor([0., 2., 4., 6.])"
      ]
     },
     "execution_count": 22,
     "metadata": {},
     "output_type": "execute_result"
    }
   ],
   "source": [
    "x.grad.zero_() # 清除之前的梯度\n",
    "x.requires_grad_(True)\n",
    "y = x*x\n",
    "y.sum().backward()\n",
    "x.grad # == 2*x"
   ]
  },
  {
   "cell_type": "markdown",
   "id": "bf371bb8",
   "metadata": {},
   "source": [
    "考虑如下复合函数情况：\n",
    "y是关于x的函数，而z是关于y和x的函数，现需要求z关于x的梯度，则将y视为常量，只考虑x在y被计算后的梯度。"
   ]
  },
  {
   "cell_type": "code",
   "execution_count": 23,
   "id": "96297e6e",
   "metadata": {},
   "outputs": [
    {
     "data": {
      "text/plain": [
       "tensor([True, True, True, True])"
      ]
     },
     "execution_count": 23,
     "metadata": {},
     "output_type": "execute_result"
    }
   ],
   "source": [
    "x.grad.zero_()\n",
    "y = x*x\n",
    "u = y.detach() # consider y as a constant\n",
    "z = u * x # z = ux, dz/dx = du\n",
    "\n",
    "z.sum().backward()\n",
    "x.grad == u"
   ]
  }
 ],
 "metadata": {
  "kernelspec": {
   "display_name": "Python 3",
   "language": "python",
   "name": "python3"
  },
  "language_info": {
   "codemirror_mode": {
    "name": "ipython",
    "version": 3
   },
   "file_extension": ".py",
   "mimetype": "text/x-python",
   "name": "python",
   "nbconvert_exporter": "python",
   "pygments_lexer": "ipython3",
   "version": "3.8.8"
  }
 },
 "nbformat": 4,
 "nbformat_minor": 5
}
