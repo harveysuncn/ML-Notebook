{
 "cells": [
  {
   "cell_type": "markdown",
   "id": "595ce3b6",
   "metadata": {},
   "source": [
    "## 多层感知机\n",
    "### 隐藏层\n",
    "softmax回归的模型基于一个假设，即目标函数是线性的。但是，并不是所有实际情况都是线性相关的，比如体温高于37度，则温度越高越危险，体温低于36度时，温度越低越危险，在此情况下，或许可以对数据进行预处理，来解决问题，比如使用与37度的距离作为特征。但是，如果对猫和狗进行分类，增加某一像素点的强度，并不一定会影响狗的可能性。\n",
    "\n",
    "因此，必须考虑到特征之间的相互作用，而不是简单地认为问题是线性相关的。\n",
    "\n",
    "为了克服线性模型的限制，最简单的方法是将许多全连接层堆叠在一起。这种结构通常称为多层感知机(Multilayer perceptron, MLP)。\n",
    "\n",
    "多层感知机一般分为\n",
    "- 不设计任何计算的**输入层**\n",
    "- n个隐藏层\n",
    "- 与问题有关的输出层\n",
    "\n",
    "输入层不计算为层数，只有隐藏层和输出层才算作层数。\n",
    "\n",
    "隐藏层可以包含m个隐藏单元（又被称为神经元），每个隐藏单元与上层和下层都是全连接的，即每个输入都会影响隐藏单元，而隐藏层中的每个隐藏单元都会影响输出层的每个单元。"
   ]
  },
  {
   "cell_type": "markdown",
   "id": "e4a554dd",
   "metadata": {},
   "source": [
    "使用矩阵**X**表示n个样本的特征，\n",
    "\n",
    "使用矩阵**H**表示具有h个隐藏单元的隐藏层的输出\n",
    "\n",
    "隐藏层具有权重**W**,和bias矩阵 **b**\n",
    "\n",
    "$$\n",
    "\\begin{aligned}\n",
    "    \\mathbf{H} & = \\mathbf{X} \\mathbf{W}^{(1)} + \\mathbf{b}^{(1)}, \\\\\n",
    "    \\mathbf{O} & = \\mathbf{H}\\mathbf{W}^{(2)} + \\mathbf{b}^{(2)}.\n",
    "\\end{aligned}\n",
    "$$\n",
    "\n",
    "但是，即使是有隐藏层，线性函数的线性函数最后也将会是线性的，可以找到参数$\\mathbf{W} = \\mathbf{W}^{(1)}\\mathbf{W}^{(2)}$和$\\mathbf{b} = \\mathbf{b}^{(1)} \\mathbf{W}^{(2)} + \\mathbf{b}^{(2)}$的等价单层模型：\n",
    "\n",
    "$$\n",
    "\\mathbf{O} = (\\mathbf{X} \\mathbf{W}^{(1)} + \\mathbf{b}^{(1)})\\mathbf{W}^{(2)} + \\mathbf{b}^{(2)} = \\mathbf{X} \\mathbf{W}^{(1)}\\mathbf{W}^{(2)} + \\mathbf{b}^{(1)} \\mathbf{W}^{(2)} + \\mathbf{b}^{(2)} = \\mathbf{X} \\mathbf{W} + \\mathbf{b}.\n",
    "$$\n",
    "\n",
    "因此，为了发挥多层结构的潜力，需要对每个隐藏单元应用一个非线性的**激活函数$\\sigma$**,有了激活函数后，线性函数就变成了非线性模型：\n",
    "\n",
    "$$\n",
    "\\begin{aligned}\n",
    "    \\mathbf{H} & = \\sigma(\\mathbf{X} \\mathbf{W}^{(1)} + \\mathbf{b}^{(1)}), \\\\\n",
    "    \\mathbf{O} & = \\mathbf{H}\\mathbf{W}^{(2)} + \\mathbf{b}^{(2)}.\\\\\n",
    "\\end{aligned}\n",
    "$$\n",
    "\n",
    "其中，激活函数的输出被称为激活值(activations)。\n",
    "\n",
    "*通常来说，使用更深而不是更广的网络，可以更容易地逼近任何函数*"
   ]
  },
  {
   "cell_type": "markdown",
   "id": "dc234e01",
   "metadata": {},
   "source": [
    "### 激活函数\n",
    "激活函数通过计算权值和加上bias来确定神经元是否应该被激活，激活函数大多数是非线性的，常见激活函数有：\n",
    "- Relu函数"
   ]
  },
  {
   "cell_type": "code",
   "execution_count": 1,
   "id": "d920ed65",
   "metadata": {},
   "outputs": [
    {
     "data": {
      "text/plain": [
       "[<matplotlib.lines.Line2D at 0x2dad3f16d00>,\n",
       " <matplotlib.lines.Line2D at 0x2dad3f16f70>]"
      ]
     },
     "execution_count": 1,
     "metadata": {},
     "output_type": "execute_result"
    },
    {
     "data": {
      "image/png": "[encoded data removed]",
      "text/plain": [
       "<Figure size 432x288 with 1 Axes>"
      ]
     },
     "metadata": {
      "needs_background": "light"
     },
     "output_type": "display_data"
    }
   ],
   "source": [
    "%matplotlib inline\n",
    "import torch\n",
    "from matplotlib import pyplot as plt\n",
    "\n",
    "x = torch.arange(-8.0, 8.0, step=0.01, requires_grad=True)\n",
    "y = torch.relu(x)\n",
    "plt.plot(x.detach(), y.detach(), 'x', 'relu(x)',)"
   ]
  },
  {
   "cell_type": "markdown",
   "id": "92b6ccfd",
   "metadata": {},
   "source": [
    "当输入为负时，Relu函数的导数为0，输入为正时，导数为1，输入等于0时，不可导，因此在输入为0时，默认使用导数为0。\n",
    "\n",
    "- sigmoid函数"
   ]
  },
  {
   "cell_type": "markdown",
   "id": "8f2e7604",
   "metadata": {},
   "source": [
    "$$sigmoid(x) = \\frac{1}{1 + \\exp(-x)}$$"
   ]
  },
  {
   "cell_type": "markdown",
   "id": "c0904b06",
   "metadata": {},
   "source": [
    "sigmoid函数在输入低于某个阈值时取值0，输入超过阈值时取值1，当输出为二分类问题时，sigmoid函数非常适用。"
   ]
  },
  {
   "cell_type": "code",
   "execution_count": 2,
   "id": "8d8d0b21",
   "metadata": {},
   "outputs": [
    {
     "data": {
      "text/plain": [
       "[<matplotlib.lines.Line2D at 0x2dad40073a0>,\n",
       " <matplotlib.lines.Line2D at 0x2dad4007610>]"
      ]
     },
     "execution_count": 2,
     "metadata": {},
     "output_type": "execute_result"
    },
    {
     "data": {
      "image/png": "[encoded data removed]",
      "text/plain": [
       "<Figure size 432x288 with 1 Axes>"
      ]
     },
     "metadata": {
      "needs_background": "light"
     },
     "output_type": "display_data"
    }
   ],
   "source": [
    "y = torch.sigmoid(x)\n",
    "plt.plot(x.detach(), y.detach(), 'x', 'sigmoid(x)',)"
   ]
  },
  {
   "cell_type": "markdown",
   "id": "31bc7a19",
   "metadata": {},
   "source": [
    "- tanh函数\n",
    "\n",
    "$$\n",
    "\\operatorname{tanh}(x) = \\frac{1-\\exp(-2x)} {1+\\exp(-2x)}\n",
    "$$\n",
    "\n",
    "函数的形状类似sigmoid函数，不同的是tanh函数关于坐标原点中心对称"
   ]
  },
  {
   "cell_type": "code",
   "execution_count": 3,
   "id": "a6e4e9fc",
   "metadata": {},
   "outputs": [
    {
     "data": {
      "text/plain": [
       "[<matplotlib.lines.Line2D at 0x2dad405eb80>,\n",
       " <matplotlib.lines.Line2D at 0x2dad405ed90>]"
      ]
     },
     "execution_count": 3,
     "metadata": {},
     "output_type": "execute_result"
    },
    {
     "data": {
      "image/png": "[encoded data removed]",
      "text/plain": [
       "<Figure size 432x288 with 1 Axes>"
      ]
     },
     "metadata": {
      "needs_background": "light"
     },
     "output_type": "display_data"
    }
   ],
   "source": [
    "y = torch.tanh(x)\n",
    "plt.plot(x.detach(), y.detach(), 'x', 'tanh(x)',)"
   ]
  },
  {
   "cell_type": "markdown",
   "id": "ff33608c",
   "metadata": {},
   "source": [
    "## 从零实现MLP\n",
    "为了与softmax对比，依然使用Fashion-MNIST数据集"
   ]
  },
  {
   "cell_type": "code",
   "execution_count": 4,
   "id": "3f662e62",
   "metadata": {},
   "outputs": [],
   "source": [
    "import torch\n",
    "import torchvision\n",
    "from torch.utils import data\n",
    "from torchvision import transforms\n",
    "from matplotlib import pyplot as plt\n",
    "\n",
    "def get_fashion_mnist_labels(labels):\n",
    "    text_labels = [\n",
    "        't-shirt', 'trouser', 'pullover', 'dress', 'coat', 'sandal', 'shirt',\n",
    "        'sneaker', 'bag', 'ankle boot'\n",
    "    ]\n",
    "    return [text_labels[int(i)] for i in labels]\n",
    "\n",
    "def show_images(imgs, num_rows, num_cols, titles=None, scale=1.5):\n",
    "    figsize = (num_cols * scale, num_rows * scale)\n",
    "    _, axes = plt.subplots(num_rows, num_cols, figsize=figsize)\n",
    "    axes = axes.flatten()\n",
    "    for i, (ax, img) in enumerate(zip(axes, imgs)):\n",
    "        if torch.is_tensor(img):\n",
    "            ax.imshow(img.numpy())\n",
    "        else:\n",
    "            ax.imshow(img)\n",
    "        ax.axes.get_xaxis().set_visible(False)\n",
    "        ax.axes.get_yaxis().set_visible(False)\n",
    "        if titles:\n",
    "            ax.set_title(titles[i])\n",
    "    return axes\n",
    "\n",
    "def load_data_fashion_mnist(batch_size, resize=None):\n",
    "    trans = [transforms.ToTensor()]\n",
    "    if resize:\n",
    "        trans.insert(0, transforms.Resize(resize))\n",
    "    trans = transforms.Compose(trans)\n",
    "    mnist_train = torchvision.datasets.FashionMNIST(root=\".\", train=True, transform=trans, download=False)\n",
    "    mnist_test  = torchvision.datasets.FashionMNIST(root=\".\", train=False,transform=trans, download=False)\n",
    "    return (data.DataLoader(mnist_train, batch_size, shuffle=True, num_workers=4),\n",
    "                 data.DataLoader(mnist_test,  batch_size, shuffle=True, num_workers=4))\n",
    "\n",
    "\n",
    "batch_size = 256\n",
    "train_iter, test_iter = load_data_fashion_mnist(batch_size)"
   ]
  },
  {
   "cell_type": "markdown",
   "id": "83afb5cb",
   "metadata": {},
   "source": [
    "### 初始化模型参数\n",
    "28\\*28=784，即输入784个特征，输出为10个类别。\n",
    "\n",
    "首先，实现一个具有单隐藏层的MLP，包含256个隐藏单元，因此该MLP架构为：\n",
    "- 总层数为2（不计算输入层）\n",
    "- 一层的隐藏层，该隐藏层有256个神经元\n",
    "- 一个输出层，输出10个类别\n",
    "\n",
    "*通常情况下选择2的n次幂作为层的宽度，计算更高效*\n",
    "\n",
    "使用Pytorch张量来表示参数，每一层都拥有一个权重矩阵和一个偏置向量。"
   ]
  },
  {
   "cell_type": "code",
   "execution_count": 7,
   "id": "396cf291",
   "metadata": {},
   "outputs": [],
   "source": [
    "from torch import nn\n",
    "\n",
    "\n",
    "num_inputs, num_outputs, num_hiddens = 784, 10, 256\n",
    "# 第一层，即隐藏层：\n",
    "# 输入为784，拥有256个神经元\n",
    "# W1.shape = (784, 256), b1.shape = 256\n",
    "W1 = nn.Parameter(\n",
    "     torch.randn(num_inputs, num_hiddens, requires_grad=True) * 1e-2)\n",
    "b1 = nn.Parameter(\n",
    "     torch.zeros(num_hiddens, requires_grad=True))\n",
    "# 第二层，即输出层\n",
    "# 输入为256， 输出10个类别\n",
    "# W2.shape = (256, 10), b2 = 10\n",
    "W2 = nn.Parameter(\n",
    "     torch.randn(num_hiddens, num_outputs, requires_grad=True) * 1e-2)\n",
    "b2 = nn.Parameter(\n",
    "     torch.zeros(num_outputs, requires_grad=True))\n",
    "\n",
    "params = [W1, b1, W2, b2]\n"
   ]
  },
  {
   "cell_type": "code",
   "execution_count": 8,
   "id": "e1330bc9",
   "metadata": {},
   "outputs": [
    {
     "name": "stdout",
     "output_type": "stream",
     "text": [
      "torch.Size([784, 256]) torch.Size([256])\n",
      "torch.Size([256, 10]) torch.Size([10])\n"
     ]
    }
   ],
   "source": [
    "print(W1.shape, b1.shape)\n",
    "print(W2.shape, b2.shape)"
   ]
  },
  {
   "cell_type": "markdown",
   "id": "1f8ed842",
   "metadata": {},
   "source": [
    "### 激活函数\n",
    "此处使用Relu作为激活函数，使用最大值函数实现一个Relu函数："
   ]
  },
  {
   "cell_type": "code",
   "execution_count": 9,
   "id": "c447684b",
   "metadata": {},
   "outputs": [],
   "source": [
    "def relu(X):\n",
    "    zeros = torch.zeros_like(X)\n",
    "    return torch.max(X, zeros)\n"
   ]
  },
  {
   "cell_type": "markdown",
   "id": "8bf1fe3e",
   "metadata": {},
   "source": [
    "### 模型\n",
    "对于每个二维图像，忽略其维度结构，将每个图像视作784长度的向量"
   ]
  },
  {
   "cell_type": "code",
   "execution_count": 11,
   "id": "e8f74d89",
   "metadata": {},
   "outputs": [],
   "source": [
    "# X.shape = torch.Size([256, 1, 28, 28])\n",
    "# y.shape = torch.Size([256])\n",
    "def net(X):\n",
    "    X = X.reshape((-1, num_inputs))\n",
    "    H = relu(X.mm(W1) + b1)\n",
    "    return (H.mm(W2) + b2)\n"
   ]
  },
  {
   "cell_type": "code",
   "execution_count": 12,
   "id": "2685e1b3",
   "metadata": {},
   "outputs": [],
   "source": [
    "loss = nn.CrossEntropyLoss()"
   ]
  },
  {
   "cell_type": "markdown",
   "id": "216765f2",
   "metadata": {},
   "source": [
    "### 训练\n",
    "迭代周期设置为10， 学习率为0.1"
   ]
  },
  {
   "cell_type": "code",
   "execution_count": 14,
   "id": "094d4d39",
   "metadata": {},
   "outputs": [],
   "source": [
    "num_epochs = 10\n",
    "lr = 0.1\n",
    "updater = torch.optim.SGD(params, lr=lr)\n",
    "\n",
    "def accuracy(y_hat, y):\n",
    "    if len(y_hat.shape) > 1 and y_hat.shape[1] > 1:\n",
    "        y_hat = y_hat.argmax(axis=1)\n",
    "    cmp = y_hat.type(y.dtype) == y\n",
    "    return float(cmp.type(y.dtype).sum())\n",
    "\n",
    "class Accumulator:  #@save\n",
    "    \"\"\"在`n`个变量上累加。\"\"\"\n",
    "    def __init__(self, n):\n",
    "        self.data = [0.0] * n\n",
    "\n",
    "    def add(self, *args):\n",
    "        self.data = [a + float(b) for a, b in zip(self.data, args)]\n",
    "\n",
    "    def reset(self):\n",
    "        self.data = [0.0] * len(self.data)\n",
    "\n",
    "    def __getitem__(self, idx):\n",
    "        return self.data[idx]\n",
    "    \n",
    "def evaluate_accuracy(net, data_iter):\n",
    "    if isinstance(net, torch.nn.Module):\n",
    "        net.eval()\n",
    "    metric = Accumulator(2)\n",
    "    for X, y in data_iter:\n",
    "        metric.add(accuracy(net(X), y), y.numel())\n",
    "    return metric[0] / metric[1]\n",
    "\n",
    "def train_epoch_ch3(net, train_iter, loss, updater):\n",
    "    if isinstance(net, torch.nn.Module):\n",
    "        net.train()\n",
    "        \n",
    "    metric = Accumulator(3)\n",
    "    for X, y in train_iter:\n",
    "        y_hat = net(X)\n",
    "        l = loss(y_hat, y)\n",
    "        if isinstance(updater, torch.optim.Optimizer):\n",
    "            updater.zero_grad()\n",
    "            l.backward()\n",
    "            updater.step()\n",
    "            metric.add(\n",
    "                    float(l) * len(y), accuracy(y_hat, y),\n",
    "                    y.size().numel())\n",
    "        else:\n",
    "            l.sum().backward()\n",
    "            updater(X.shape[0])\n",
    "            metric.add(float(l.sum()), accuracy(y_hat, y), y.numel())\n",
    "    return metric[0] / metric[2], metric[1] / metric[2]\n",
    "\n",
    "def train_ch3(net, train_iter, test_iter, loss, num_epochs, updater):\n",
    "    for epoch in range(num_epochs):\n",
    "        train_metrics = train_epoch_ch3(net, train_iter, loss, updater)\n",
    "        test_acc = evaluate_accuracy(net, test_iter)\n",
    "    train_loss, train_acc = train_metrics\n",
    "    \n",
    "train_ch3(net, train_iter, test_iter, loss, num_epochs, updater)"
   ]
  },
  {
   "cell_type": "code",
   "execution_count": 15,
   "id": "7e51b200",
   "metadata": {},
   "outputs": [],
   "source": [
    "def predict_ch3(net, test_iter, n=6):\n",
    "    for X,y in test_iter:\n",
    "        break\n",
    "    trues = get_fashion_mnist_labels(y)\n",
    "    preds = get_fashion_mnist_labels(net(X).argmax(axis=1))\n",
    "    titles = [true + ',' + pred for true, pred in zip(trues, preds)]\n",
    "    return trues, preds\n",
    "    \n",
    "t, p = predict_ch3(net, test_iter)\n",
    "wrong = 0\n",
    "for i, j in zip(t, p):\n",
    "    if i != j:\n",
    "        wrong += 1\n"
   ]
  },
  {
   "cell_type": "code",
   "execution_count": 17,
   "id": "991df4e8",
   "metadata": {},
   "outputs": [
    {
     "name": "stdout",
     "output_type": "stream",
     "text": [
      "45\n",
      "0.82421875\n"
     ]
    }
   ],
   "source": [
    "print(wrong)\n",
    "print(1-wrong/batch_size)"
   ]
  }
 ],
 "metadata": {
  "kernelspec": {
   "display_name": "Python 3",
   "language": "python",
   "name": "python3"
  },
  "language_info": {
   "codemirror_mode": {
    "name": "ipython",
    "version": 3
   },
   "file_extension": ".py",
   "mimetype": "text/x-python",
   "name": "python",
   "nbconvert_exporter": "python",
   "pygments_lexer": "ipython3",
   "version": "3.8.8"
  }
 },
 "nbformat": 4,
 "nbformat_minor": 5
}
